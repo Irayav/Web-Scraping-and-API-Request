{
  "nbformat": 4,
  "nbformat_minor": 0,
  "metadata": {
    "colab": {
      "name": "Space_Scraping_Practice.ipynb",
      "version": "0.3.2",
      "provenance": [],
      "collapsed_sections": [],
      "include_colab_link": true
    },
    "kernelspec": {
      "name": "python3",
      "display_name": "Python 3"
    }
  },
  "cells": [
    {
      "cell_type": "markdown",
      "metadata": {
        "id": "view-in-github",
        "colab_type": "text"
      },
      "source": [
        "<a href=\"https://colab.research.google.com/github/Irayav/Web-Scraping-and-API-Rrequsts/blob/master/Space_Scraping_Practice.ipynb\" target=\"_parent\"><img src=\"https://colab.research.google.com/assets/colab-badge.svg\" alt=\"Open In Colab\"/></a>"
      ]
    },
    {
      "cell_type": "markdown",
      "metadata": {
        "id": "KQccDxhBiYfo",
        "colab_type": "text"
      },
      "source": [
        "##Objective\n",
        "Write a program to scrape news from the https://www.space.com/news web page. \n",
        "\n",
        "##Method:\n",
        "Write a function that can be run that retrieves the space.com news page, extracts the news stories, and prints out the **headline, author, synopsis, and date and time for each story.**"
      ]
    },
    {
      "cell_type": "markdown",
      "metadata": {
        "id": "uV1eWI8Ei2BA",
        "colab_type": "text"
      },
      "source": [
        "##The Scraping Process\n",
        "In order to properly parse web sites for data, we will need to perform a few steps:\n",
        "​\n",
        "1. Identify the website where the data is located [site]( https://www.space.com/news )\n",
        "2. Verify that scraping the data does not violate the site's policies\n",
        "\n",
        "``` \n",
        "User-Agent: *\n",
        "Disallow: /search.php\n",
        "Disallow: /social.php\n",
        "Disallow: /newsletter-signup\n",
        "Disallow: /_proxy*\n",
        "Disallow: /search\n",
        "\n",
        "Sitemap: https://www.space.com/sitemap.xml \n",
        "\n",
        "```\n",
        "\n",
        "3. Manually examine the web site with Chrome Developer Tools learn the HTML structure of the site learn how the data is requested by the site, that is, how is the URL of the website is structured to get the data\n",
        "4. Use the requests library to fetch the HTML code of the website\n",
        "5. Use BeautifulSoup to parse the HTML and extract the content\n",
        "6. Follow links to get more data (if necessary)\n",
        "\n",
        "​\n",
        "Store the data in a file for future analysis (if needed)\n"
      ]
    },
    {
      "cell_type": "code",
      "metadata": {
        "id": "Gg3HLMmwir4U",
        "colab_type": "code",
        "colab": {}
      },
      "source": [
        "import requests\n",
        "url = 'https://www.space.com/news'\n",
        "response = requests.get(url)\n",
        "\n",
        "#test for a valid response\n",
        "if(response.ok):\n",
        "  #get all data from the response\n",
        "  data = response.text\n",
        "#if I wanted to see see what it looks like, we can use print function\n",
        "#for now, to decluter the code I will skip this step\n",
        "#print(data)"
      ],
      "execution_count": 0,
      "outputs": []
    },
    {
      "cell_type": "code",
      "metadata": {
        "id": "nJDeNiaYQSMB",
        "colab_type": "code",
        "colab": {}
      },
      "source": [
        "#let's import BeautifulSoup to make sense of the code\n",
        "\n",
        "from bs4 import BeautifulSoup\n",
        "\n",
        "soup = BeautifulSoup(data, 'html.parser')\n",
        "\n",
        "#should we need to review the results, print function can be used\n",
        "#print(soup.prettify())"
      ],
      "execution_count": 0,
      "outputs": []
    },
    {
      "cell_type": "markdown",
      "metadata": {
        "id": "-pDOJQZuCP2b",
        "colab_type": "text"
      },
      "source": [
        "###Here is a portion of the code containing news article info, including title, synopsis, author, date and time.\n",
        "\n",
        "```\n",
        " <div class=\"content\">\n",
        "           <header>\n",
        "            <h3 class=\"article-name\">\n",
        "             Blue Origin Kicks Off Kids' Space Club With Offer to Launch Postcards\n",
        "            </h3>\n",
        "            <p class=\"byline\">\n",
        "             <span class=\"by-author\">\n",
        "              By\n",
        "              <span style=\"white-space:nowrap\">\n",
        "               Robert Z. Pearlman\n",
        "              </span>\n",
        "             </span>\n",
        "             <time class=\"published-date relative-date\" data-published-date=\"2019-05-11T12:38:01Z\" datetime=\"2019-05-11T12:38:01Z\">\n",
        "             </time>\n",
        "            </p>\n",
        "           </header>\n",
        "           <p class=\"synopsis\">\n",
        "            Jeff Bezos is adding another title to his credit: space postmaster.\n",
        "           </p>\n",
        "          </div>\n",
        "         </article>\n",
        "        </a>\n",
        "            \n",
        "```"
      ]
    },
    {
      "cell_type": "code",
      "metadata": {
        "id": "6DyWWcprCROj",
        "colab_type": "code",
        "outputId": "a257d0ca-52b0-47d3-dcfa-cd847482c125",
        "colab": {
          "base_uri": "https://localhost:8080/",
          "height": 1000
        }
      },
      "source": [
        "  #first find all elements with class *content*\n",
        "  summary =soup.find_all(class_='content')\n",
        "  \n",
        "  #let's review results\n",
        "  print(summary)"
      ],
      "execution_count": 3,
      "outputs": [
        {
          "output_type": "stream",
          "text": [
            "[<div class=\"content\">\n",
            "<header>\n",
            "<h3 class=\"article-name\">Solar Eclipse Glasses: Where to Buy the Best, High-Quality Eyewear</h3>\n",
            "<p class=\"byline\">\n",
            "<span class=\"by-author\">\n",
            "By\n",
            "<span style=\"white-space:nowrap\">\n",
            "Hanneke Weitering </span>\n",
            "</span>\n",
            "<time class=\"published-date relative-date\" data-published-date=\"2019-06-25T20:44:15Z\" datetime=\"2019-06-25T20:44:15Z\"></time>\n",
            "</p>\n",
            "</header>\n",
            "<p class=\"synopsis\">\n",
            "Whether you're looking for a new pair of eclipse glasses or you've already purchased some form of eye protection, here's what you need to know to avoid burning your eyes during the solar eclipse.\n",
            "</p>\n",
            "</div>, <div class=\"content\">\n",
            "<header>\n",
            "<h3 class=\"article-name\">One Week Until the Great South American Total Solar Eclipse!</h3>\n",
            "<p class=\"byline\">\n",
            "<span class=\"by-author\">\n",
            "By\n",
            "<span style=\"white-space:nowrap\">\n",
            "Joe Rao </span>\n",
            "</span>\n",
            "<time class=\"published-date relative-date\" data-published-date=\"2019-06-25T20:21:30Z\" datetime=\"2019-06-25T20:21:30Z\"></time>\n",
            "</p>\n",
            "</header>\n",
            "<p class=\"synopsis\">\n",
            "On Tuesday, July 2, a lot of ocean and a few tiny bits of land will lie under a moon-blackened sun.\n",
            "</p>\n",
            "</div>, <div class=\"content\">\n",
            "<header>\n",
            "<h3 class=\"article-name\">Dairy Queen Whips Up 'Zero Gravity' Blizzard for Moon Landing 50th</h3>\n",
            "<p class=\"byline\">\n",
            "<span class=\"by-author\">\n",
            "By\n",
            "<span style=\"white-space:nowrap\">\n",
            "Robert Z. Pearlman </span>\n",
            "</span>\n",
            "<time class=\"published-date relative-date\" data-published-date=\"2019-06-25T19:30:08Z\" datetime=\"2019-06-25T19:30:08Z\"></time>\n",
            "</p>\n",
            "</header>\n",
            "<p class=\"synopsis\">\n",
            "Eating it upside down is optional.\n",
            "</p>\n",
            "</div>, <div class=\"content\">\n",
            "<header>\n",
            "<h3 class=\"article-name\">How Apollo 8 Morphed Into a Moon Mission: Exclusive Clip </h3>\n",
            "<p class=\"byline\">\n",
            "<span class=\"by-author\">\n",
            "By\n",
            "<span style=\"white-space:nowrap\">\n",
            "Elizabeth Howell </span>\n",
            "</span>\n",
            "<time class=\"published-date relative-date\" data-published-date=\"2019-06-25T18:25:34Z\" datetime=\"2019-06-25T18:25:34Z\"></time>\n",
            "</p>\n",
            "</header>\n",
            "<p class=\"synopsis\">\n",
            "Apollo 8 was originally not supposed to go to the moon.\n",
            "</p>\n",
            "</div>, <div class=\"content\">\n",
            "<header>\n",
            "<h3 class=\"article-name\">Watch 3 'BIRDS' Take Flight from the International Space Station</h3>\n",
            "<p class=\"byline\">\n",
            "<span class=\"by-author\">\n",
            "By\n",
            "<span style=\"white-space:nowrap\">\n",
            "Passant Rabie </span>\n",
            "</span>\n",
            "<time class=\"published-date relative-date\" data-published-date=\"2019-06-25T18:20:58Z\" datetime=\"2019-06-25T18:20:58Z\"></time>\n",
            "</p>\n",
            "</header>\n",
            "<p class=\"synopsis\">\n",
            "Three small cubesats were released into low Earth orbit last week as part of a program that helps countries build their first satellites.\n",
            "</p>\n",
            "</div>, <div class=\"content\">\n",
            "<header>\n",
            "<h3 class=\"article-name\">SpaceX Falcon Heavy Launch Spotted from Space (Photos)</h3>\n",
            "<p class=\"byline\">\n",
            "<span class=\"by-author\">\n",
            "By\n",
            "<span style=\"white-space:nowrap\">\n",
            "Mike Wall </span>\n",
            "</span>\n",
            "<time class=\"published-date relative-date\" data-published-date=\"2019-06-25T17:43:07Z\" datetime=\"2019-06-25T17:43:07Z\"></time>\n",
            "</p>\n",
            "</header>\n",
            "<p class=\"synopsis\">\n",
            "An Earth-observation satellite spotted something leaving our planet early this morning (June 25).\n",
            "</p>\n",
            "</div>, <div class=\"content\">\n",
            "<header>\n",
            "<h3 class=\"article-name\">Asteroid That's 3 Times As Long As a Football Field Will Whiz by Earth Thursday</h3>\n",
            "<p class=\"byline\">\n",
            "<span class=\"by-author\">\n",
            "By\n",
            "<span style=\"white-space:nowrap\">\n",
            "Laura Geggel </span>\n",
            "</span>\n",
            "<time class=\"published-date relative-date\" data-published-date=\"2019-06-25T16:32:22Z\" datetime=\"2019-06-25T16:32:22Z\"></time>\n",
            "</p>\n",
            "</header>\n",
            "<p class=\"synopsis\">\n",
            "Summer is the season for tourists, and that includes a cosmic traveler — one that's three times the length of a football field — that's expected to visit Earth's neighborhood later this week.\n",
            "</p>\n",
            "</div>, <div class=\"content\">\n",
            "<header>\n",
            "<h3 class=\"article-name\">Executive Order Could Reduce Number of NASA Advisory Committees</h3>\n",
            "<p class=\"byline\">\n",
            "<span class=\"by-author\">\n",
            "By\n",
            "<span style=\"white-space:nowrap\">\n",
            "Jeff Foust </span>\n",
            "</span>\n",
            "<time class=\"published-date relative-date\" data-published-date=\"2019-06-25T16:29:25Z\" datetime=\"2019-06-25T16:29:25Z\"></time>\n",
            "</p>\n",
            "</header>\n",
            "<p class=\"synopsis\">\n",
            "An executive order calling for an across-the-board reduction in federal advisory groups could force NASA to shut down several of the committees that support the agency.\n",
            "</p>\n",
            "</div>, <div class=\"content\">\n",
            "<header>\n",
            "<h3 class=\"article-name\">Pictures from Space! Our Image of the Day</h3>\n",
            "<p class=\"byline\">\n",
            "<span class=\"by-author\">\n",
            "By\n",
            "<span style=\"white-space:nowrap\">\n",
            "Hanneke Weitering </span>\n",
            "</span>\n",
            "<time class=\"published-date relative-date\" data-published-date=\"2019-06-25T12:56:47Z\" datetime=\"2019-06-25T12:56:47Z\"></time>\n",
            "</p>\n",
            "</header>\n",
            "<p class=\"synopsis\">\n",
            "A Soyuz crew capsule carrying three crewmembers home from the International Space Station parachuted down to Earth under the first-quarter moon on Monday night (June 24).\n",
            "</p>\n",
            "</div>, <div class=\"content\">\n",
            "<header>\n",
            "<h3 class=\"article-name\">On This Day in Space! June 25, 1997: Russian Cargo Craft Collides With Mir Space Station</h3>\n",
            "<p class=\"byline\">\n",
            "<span class=\"by-author\">\n",
            "By\n",
            "<span style=\"white-space:nowrap\">\n",
            "Hanneke Weitering </span>\n",
            "</span>\n",
            "<time class=\"published-date relative-date\" data-published-date=\"2019-06-25T12:36:14Z\" datetime=\"2019-06-25T12:36:14Z\"></time>\n",
            "</p>\n",
            "</header>\n",
            "<p class=\"synopsis\">\n",
            "On June 25, 1997, a Russian Progress M-34 spacecraft collided with the Russian Mir space station. See how it happened in our \"On This Day in Space\" video series!\n",
            "</p>\n",
            "</div>, <div class=\"content\">\n",
            "<header>\n",
            "<h3 class=\"article-name\">July New Moon 2019: Catch a Total Solar Eclipse, Bright Planets and Constellations </h3>\n",
            "<p class=\"byline\">\n",
            "<span class=\"by-author\">\n",
            "By\n",
            "<span style=\"white-space:nowrap\">\n",
            "Jesse Emspak </span>\n",
            "</span>\n",
            "<time class=\"published-date relative-date\" data-published-date=\"2019-06-25T12:25:45Z\" datetime=\"2019-06-25T12:25:45Z\"></time>\n",
            "</p>\n",
            "</header>\n",
            "<p class=\"synopsis\">\n",
            "The new moon occurs July 2, at 3:16 p.m. EDT (1916 GMT), and will offer up a total solar eclipse that will cross South America from just south of Buenos Aires to the city of La Serena, Chile.\n",
            "</p>\n",
            "</div>, <div class=\"content\">\n",
            "<header>\n",
            "<h3 class=\"article-name\">Space Webcasts: Space Station Crew Landing and a SpaceX Falcon Heavy Launch</h3>\n",
            "<p class=\"byline\">\n",
            "<span class=\"by-author\">\n",
            "By\n",
            "<span style=\"white-space:nowrap\">\n",
            "SPACE.com Staff </span>\n",
            "</span>\n",
            "<time class=\"published-date relative-date\" data-published-date=\"2019-06-25T12:01:01Z\" datetime=\"2019-06-25T12:01:01Z\"></time>\n",
            "</p>\n",
            "</header>\n",
            "<p class=\"synopsis\">\n",
            "See replays of Monday's space station crew landing followed by a Falcon Heavy rocket launch early Tuesday morning.\n",
            "</p>\n",
            "</div>, <div class=\"content\">\n",
            "<header>\n",
            "<h3 class=\"article-name\">Boeing to Move Space Headquarters to Florida</h3>\n",
            "<p class=\"byline\">\n",
            "<span class=\"by-author\">\n",
            "By\n",
            "<span style=\"white-space:nowrap\">\n",
            "Jeff Foust </span>\n",
            "</span>\n",
            "<time class=\"published-date relative-date\" data-published-date=\"2019-06-25T11:00:00Z\" datetime=\"2019-06-25T11:00:00Z\"></time>\n",
            "</p>\n",
            "</header>\n",
            "<p class=\"synopsis\">\n",
            "Boeing announced June 19 it will move the headquarters of its space division from the Washington, DC area to Florida as a number of its major programs shift from development to operations.\n",
            "</p>\n",
            "</div>, <div class=\"content\">\n",
            "<header>\n",
            "<h3 class=\"article-name\">China Launches Latest Beidou Satellite for Global Navigation System</h3>\n",
            "<p class=\"byline\">\n",
            "<span class=\"by-author\">\n",
            "By\n",
            "<span style=\"white-space:nowrap\">\n",
            "Andrew Jones </span>\n",
            "</span>\n",
            "<time class=\"published-date relative-date\" data-published-date=\"2019-06-25T11:00:00Z\" datetime=\"2019-06-25T11:00:00Z\"></time>\n",
            "</p>\n",
            "</header>\n",
            "<p class=\"synopsis\">\n",
            "A Long March 3B lifted off from the Xichang Satellite Launch Center in southwest China at 2:09 p.m. Eastern Monday, sending a Beidou satellite toward an inclined geosynchronous orbit.\n",
            "</p>\n",
            "</div>, <div class=\"content\">\n",
            "<header>\n",
            "<h3 class=\"article-name\">SpaceX Falcon Heavy Rocket Lofts 24 Satellites in 1st Night Launch</h3>\n",
            "<p class=\"byline\">\n",
            "<span class=\"by-author\">\n",
            "By\n",
            "<span style=\"white-space:nowrap\">\n",
            "Meghan Bartels </span>\n",
            "</span>\n",
            "<time class=\"published-date relative-date\" data-published-date=\"2019-06-25T07:17:59Z\" datetime=\"2019-06-25T07:17:59Z\"></time>\n",
            "</p>\n",
            "</header>\n",
            "<p class=\"synopsis\">\n",
            "SpaceX marked a milestone today (June 25) as the company's Falcon Heavy megarocket successfully lofted two dozen satellites into orbit.\n",
            "</p>\n",
            "</div>, <div class=\"content\">\n",
            "<header>\n",
            "<h3 class=\"article-name\">Soyuz Capsule Returns Station Crew to Earth After 204 Days in Space</h3>\n",
            "<p class=\"byline\">\n",
            "<span class=\"by-author\">\n",
            "By\n",
            "<span style=\"white-space:nowrap\">\n",
            "Robert Z. Pearlman </span>\n",
            "</span>\n",
            "<time class=\"published-date relative-date\" data-published-date=\"2019-06-25T03:02:36Z\" datetime=\"2019-06-25T03:02:36Z\"></time>\n",
            "</p>\n",
            "</header>\n",
            "<p class=\"synopsis\">\n",
            "A Russian cosmonaut and astronauts from the United States and Canada returned to Earth after spending more than 200 days on board the International Space Station.\n",
            "</p>\n",
            "</div>, <div class=\"content\">\n",
            "<header>\n",
            "<h3 class=\"article-name\">SpaceX Adjusts Launch Time for First Falcon Heavy Night Flight</h3>\n",
            "<p class=\"byline\">\n",
            "<span class=\"by-author\">\n",
            "By\n",
            "<span style=\"white-space:nowrap\">\n",
            "Meghan Bartels </span>\n",
            "</span>\n",
            "<time class=\"published-date relative-date\" data-published-date=\"2019-06-25T01:49:42Z\" datetime=\"2019-06-25T01:49:42Z\"></time>\n",
            "</p>\n",
            "</header>\n",
            "<p class=\"synopsis\">\n",
            "SpaceX is waiting until late in its 4-hour window to fire the engines on the massive Falcon Heavy rocket currently sitting on a launch pad here at Kennedy Space Center.\n",
            "</p>\n",
            "</div>, <div class=\"content\">\n",
            "<header>\n",
            "<h3 class=\"article-name\">Space Launch Calendar 2019: Sky Events, Missions &amp; More</h3>\n",
            "<p class=\"byline\">\n",
            "<span class=\"by-author\">\n",
            "By\n",
            "<span style=\"white-space:nowrap\">\n",
            "Hanneke Weitering </span>\n",
            "</span>\n",
            "<time class=\"published-date relative-date\" data-published-date=\"2019-06-25T01:40:40Z\" datetime=\"2019-06-25T01:40:40Z\"></time>\n",
            "</p>\n",
            "</header>\n",
            "<p class=\"synopsis\">\n",
            "Here's a guide to SpaceX's launch schedule, other rocket missions, astronomical events of the next year, as well as milestones for spacecraft already in travel.\n",
            "</p>\n",
            "</div>, <div class=\"content\">\n",
            "<header>\n",
            "<h3 class=\"article-name\">SpaceX Looks Ahead to Certification Milestone with Falcon Heavy Launch</h3>\n",
            "<p class=\"byline\">\n",
            "<span class=\"by-author\">\n",
            "By\n",
            "<span style=\"white-space:nowrap\">\n",
            "Stefano Coledan </span>\n",
            "</span>\n",
            "<time class=\"published-date relative-date\" data-published-date=\"2019-06-24T21:45:11Z\" datetime=\"2019-06-24T21:45:11Z\"></time>\n",
            "</p>\n",
            "</header>\n",
            "<p class=\"synopsis\">\n",
            "A panoply of satellites is awaiting liftoff aboard a Falcon Heavy rocket on a mission that will mark a milestone in SpaceX's quest to become an Air Force-certified launch provider.\n",
            "</p>\n",
            "</div>, <div class=\"content\">\n",
            "<header>\n",
            "<h3 class=\"article-name\">Mars May Have Escaped Life-Threatening Impacts Early On</h3>\n",
            "<p class=\"byline\">\n",
            "<span class=\"by-author\">\n",
            "By\n",
            "<span style=\"white-space:nowrap\">\n",
            "Charles Q. Choi </span>\n",
            "</span>\n",
            "<time class=\"published-date relative-date\" data-published-date=\"2019-06-24T21:30:53Z\" datetime=\"2019-06-24T21:30:53Z\"></time>\n",
            "</p>\n",
            "</header>\n",
            "<p class=\"synopsis\">\n",
            "A storm of cosmic impacts may have ended relatively early on Mars, suggesting that the Red Planet was habitable longer than scientists previously thought, a new study finds.\n",
            "</p>\n",
            "</div>]\n"
          ],
          "name": "stdout"
        }
      ]
    },
    {
      "cell_type": "code",
      "metadata": {
        "id": "msHACuEBC4M_",
        "colab_type": "code",
        "outputId": "314b45bd-6f03-4002-ac40-c0cd64fa15a4",
        "colab": {
          "base_uri": "https://localhost:8080/",
          "height": 55
        }
      },
      "source": [
        "#let's get all article titles\n",
        "\n",
        "art_names = soup.find_all(class_='article-name')\n",
        "print(art_names)"
      ],
      "execution_count": 4,
      "outputs": [
        {
          "output_type": "stream",
          "text": [
            "[<h3 class=\"article-name\">Solar Eclipse Glasses: Where to Buy the Best, High-Quality Eyewear</h3>, <h3 class=\"article-name\">One Week Until the Great South American Total Solar Eclipse!</h3>, <h3 class=\"article-name\">Dairy Queen Whips Up 'Zero Gravity' Blizzard for Moon Landing 50th</h3>, <h3 class=\"article-name\">How Apollo 8 Morphed Into a Moon Mission: Exclusive Clip </h3>, <h3 class=\"article-name\">Watch 3 'BIRDS' Take Flight from the International Space Station</h3>, <h3 class=\"article-name\">SpaceX Falcon Heavy Launch Spotted from Space (Photos)</h3>, <h3 class=\"article-name\">Asteroid That's 3 Times As Long As a Football Field Will Whiz by Earth Thursday</h3>, <h3 class=\"article-name\">Executive Order Could Reduce Number of NASA Advisory Committees</h3>, <h3 class=\"article-name\">Pictures from Space! Our Image of the Day</h3>, <h3 class=\"article-name\">On This Day in Space! June 25, 1997: Russian Cargo Craft Collides With Mir Space Station</h3>, <h3 class=\"article-name\">July New Moon 2019: Catch a Total Solar Eclipse, Bright Planets and Constellations </h3>, <h3 class=\"article-name\">Space Webcasts: Space Station Crew Landing and a SpaceX Falcon Heavy Launch</h3>, <h3 class=\"article-name\">Boeing to Move Space Headquarters to Florida</h3>, <h3 class=\"article-name\">China Launches Latest Beidou Satellite for Global Navigation System</h3>, <h3 class=\"article-name\">SpaceX Falcon Heavy Rocket Lofts 24 Satellites in 1st Night Launch</h3>, <h3 class=\"article-name\">Soyuz Capsule Returns Station Crew to Earth After 204 Days in Space</h3>, <h3 class=\"article-name\">SpaceX Adjusts Launch Time for First Falcon Heavy Night Flight</h3>, <h3 class=\"article-name\">Space Launch Calendar 2019: Sky Events, Missions &amp; More</h3>, <h3 class=\"article-name\">SpaceX Looks Ahead to Certification Milestone with Falcon Heavy Launch</h3>, <h3 class=\"article-name\">Mars May Have Escaped Life-Threatening Impacts Early On</h3>]\n"
          ],
          "name": "stdout"
        }
      ]
    },
    {
      "cell_type": "code",
      "metadata": {
        "id": "Kd9UTW4cDXvQ",
        "colab_type": "code",
        "outputId": "9e3e0aae-18ad-44f0-f620-3d80c977faad",
        "colab": {
          "base_uri": "https://localhost:8080/",
          "height": 55
        }
      },
      "source": [
        "# get clean list of article's names\n",
        "\n",
        "title = [title.get_text() for title in art_names]\n",
        "print(title)"
      ],
      "execution_count": 5,
      "outputs": [
        {
          "output_type": "stream",
          "text": [
            "['Solar Eclipse Glasses: Where to Buy the Best, High-Quality Eyewear', 'One Week Until the Great South American Total Solar Eclipse!', \"Dairy Queen Whips Up 'Zero Gravity' Blizzard for Moon Landing 50th\", 'How Apollo 8 Morphed Into a Moon Mission: Exclusive Clip ', \"Watch 3 'BIRDS' Take Flight from the International Space Station\", 'SpaceX Falcon Heavy Launch Spotted from Space (Photos)', \"Asteroid That's 3 Times As Long As a Football Field Will Whiz by Earth Thursday\", 'Executive Order Could Reduce Number of NASA Advisory Committees', 'Pictures from Space! Our Image of the Day', 'On This Day in Space! June 25, 1997: Russian Cargo Craft Collides With Mir Space Station', 'July New Moon 2019: Catch a Total Solar Eclipse, Bright Planets and Constellations ', 'Space Webcasts: Space Station Crew Landing and a SpaceX Falcon Heavy Launch', 'Boeing to Move Space Headquarters to Florida', 'China Launches Latest Beidou Satellite for Global Navigation System', 'SpaceX Falcon Heavy Rocket Lofts 24 Satellites in 1st Night Launch', 'Soyuz Capsule Returns Station Crew to Earth After 204 Days in Space', 'SpaceX Adjusts Launch Time for First Falcon Heavy Night Flight', 'Space Launch Calendar 2019: Sky Events, Missions & More', 'SpaceX Looks Ahead to Certification Milestone with Falcon Heavy Launch', 'Mars May Have Escaped Life-Threatening Impacts Early On']\n"
          ],
          "name": "stdout"
        }
      ]
    },
    {
      "cell_type": "code",
      "metadata": {
        "colab_type": "code",
        "outputId": "08fb411a-2513-48a2-8a97-ac3185f8b396",
        "id": "JXN4X3D-J7xf",
        "colab": {
          "base_uri": "https://localhost:8080/",
          "height": 1000
        }
      },
      "source": [
        "#let's get all article authors\n",
        "\n",
        "art_auth = soup.find_all(class_='by-author')\n",
        "\n",
        "print(art_auth)"
      ],
      "execution_count": 6,
      "outputs": [
        {
          "output_type": "stream",
          "text": [
            "[<span class=\"by-author\">\n",
            "By\n",
            "<span style=\"white-space:nowrap\">\n",
            "Hanneke Weitering </span>\n",
            "</span>, <span class=\"by-author\">\n",
            "By\n",
            "<span style=\"white-space:nowrap\">\n",
            "Joe Rao </span>\n",
            "</span>, <span class=\"by-author\">\n",
            "By\n",
            "<span style=\"white-space:nowrap\">\n",
            "Robert Z. Pearlman </span>\n",
            "</span>, <span class=\"by-author\">\n",
            "By\n",
            "<span style=\"white-space:nowrap\">\n",
            "Elizabeth Howell </span>\n",
            "</span>, <span class=\"by-author\">\n",
            "By\n",
            "<span style=\"white-space:nowrap\">\n",
            "Passant Rabie </span>\n",
            "</span>, <span class=\"by-author\">\n",
            "By\n",
            "<span style=\"white-space:nowrap\">\n",
            "Mike Wall </span>\n",
            "</span>, <span class=\"by-author\">\n",
            "By\n",
            "<span style=\"white-space:nowrap\">\n",
            "Laura Geggel </span>\n",
            "</span>, <span class=\"by-author\">\n",
            "By\n",
            "<span style=\"white-space:nowrap\">\n",
            "Jeff Foust </span>\n",
            "</span>, <span class=\"by-author\">\n",
            "By\n",
            "<span style=\"white-space:nowrap\">\n",
            "Hanneke Weitering </span>\n",
            "</span>, <span class=\"by-author\">\n",
            "By\n",
            "<span style=\"white-space:nowrap\">\n",
            "Hanneke Weitering </span>\n",
            "</span>, <span class=\"by-author\">\n",
            "By\n",
            "<span style=\"white-space:nowrap\">\n",
            "Jesse Emspak </span>\n",
            "</span>, <span class=\"by-author\">\n",
            "By\n",
            "<span style=\"white-space:nowrap\">\n",
            "SPACE.com Staff </span>\n",
            "</span>, <span class=\"by-author\">\n",
            "By\n",
            "<span style=\"white-space:nowrap\">\n",
            "Jeff Foust </span>\n",
            "</span>, <span class=\"by-author\">\n",
            "By\n",
            "<span style=\"white-space:nowrap\">\n",
            "Andrew Jones </span>\n",
            "</span>, <span class=\"by-author\">\n",
            "By\n",
            "<span style=\"white-space:nowrap\">\n",
            "Meghan Bartels </span>\n",
            "</span>, <span class=\"by-author\">\n",
            "By\n",
            "<span style=\"white-space:nowrap\">\n",
            "Robert Z. Pearlman </span>\n",
            "</span>, <span class=\"by-author\">\n",
            "By\n",
            "<span style=\"white-space:nowrap\">\n",
            "Meghan Bartels </span>\n",
            "</span>, <span class=\"by-author\">\n",
            "By\n",
            "<span style=\"white-space:nowrap\">\n",
            "Hanneke Weitering </span>\n",
            "</span>, <span class=\"by-author\">\n",
            "By\n",
            "<span style=\"white-space:nowrap\">\n",
            "Stefano Coledan </span>\n",
            "</span>, <span class=\"by-author\">\n",
            "By\n",
            "<span style=\"white-space:nowrap\">\n",
            "Charles Q. Choi </span>\n",
            "</span>]\n"
          ],
          "name": "stdout"
        }
      ]
    },
    {
      "cell_type": "code",
      "metadata": {
        "id": "D_gE89PRgbf4",
        "colab_type": "code",
        "outputId": "c8211578-f5d2-495f-de94-ff73e1eac210",
        "colab": {
          "base_uri": "https://localhost:8080/",
          "height": 55
        }
      },
      "source": [
        "# get a list of authors\n",
        "\n",
        "auth = [auth.get_text().strip() for auth in art_auth]\n",
        "print(auth)"
      ],
      "execution_count": 7,
      "outputs": [
        {
          "output_type": "stream",
          "text": [
            "['By\\n\\nHanneke Weitering', 'By\\n\\nJoe Rao', 'By\\n\\nRobert Z. Pearlman', 'By\\n\\nElizabeth Howell', 'By\\n\\nPassant Rabie', 'By\\n\\nMike Wall', 'By\\n\\nLaura Geggel', 'By\\n\\nJeff Foust', 'By\\n\\nHanneke Weitering', 'By\\n\\nHanneke Weitering', 'By\\n\\nJesse Emspak', 'By\\n\\nSPACE.com Staff', 'By\\n\\nJeff Foust', 'By\\n\\nAndrew Jones', 'By\\n\\nMeghan Bartels', 'By\\n\\nRobert Z. Pearlman', 'By\\n\\nMeghan Bartels', 'By\\n\\nHanneke Weitering', 'By\\n\\nStefano Coledan', 'By\\n\\nCharles Q. Choi']\n"
          ],
          "name": "stdout"
        }
      ]
    },
    {
      "cell_type": "code",
      "metadata": {
        "id": "-9gWAHKEMjnz",
        "colab_type": "code",
        "outputId": "4f57cc13-2581-42cf-adf1-0ca3bcfe9a26",
        "colab": {
          "base_uri": "https://localhost:8080/",
          "height": 55
        }
      },
      "source": [
        "# get all dates\n",
        "\n",
        "days = soup.find_all(class_='published-date relative-date')\n",
        "print(days)"
      ],
      "execution_count": 8,
      "outputs": [
        {
          "output_type": "stream",
          "text": [
            "[<time class=\"published-date relative-date\" data-published-date=\"2019-06-25T20:44:15Z\" datetime=\"2019-06-25T20:44:15Z\"></time>, <time class=\"published-date relative-date\" data-published-date=\"2019-06-25T20:21:30Z\" datetime=\"2019-06-25T20:21:30Z\"></time>, <time class=\"published-date relative-date\" data-published-date=\"2019-06-25T19:30:08Z\" datetime=\"2019-06-25T19:30:08Z\"></time>, <time class=\"published-date relative-date\" data-published-date=\"2019-06-25T18:25:34Z\" datetime=\"2019-06-25T18:25:34Z\"></time>, <time class=\"published-date relative-date\" data-published-date=\"2019-06-25T18:20:58Z\" datetime=\"2019-06-25T18:20:58Z\"></time>, <time class=\"published-date relative-date\" data-published-date=\"2019-06-25T17:43:07Z\" datetime=\"2019-06-25T17:43:07Z\"></time>, <time class=\"published-date relative-date\" data-published-date=\"2019-06-25T16:32:22Z\" datetime=\"2019-06-25T16:32:22Z\"></time>, <time class=\"published-date relative-date\" data-published-date=\"2019-06-25T16:29:25Z\" datetime=\"2019-06-25T16:29:25Z\"></time>, <time class=\"published-date relative-date\" data-published-date=\"2019-06-25T12:56:47Z\" datetime=\"2019-06-25T12:56:47Z\"></time>, <time class=\"published-date relative-date\" data-published-date=\"2019-06-25T12:36:14Z\" datetime=\"2019-06-25T12:36:14Z\"></time>, <time class=\"published-date relative-date\" data-published-date=\"2019-06-25T12:25:45Z\" datetime=\"2019-06-25T12:25:45Z\"></time>, <time class=\"published-date relative-date\" data-published-date=\"2019-06-25T12:01:01Z\" datetime=\"2019-06-25T12:01:01Z\"></time>, <time class=\"published-date relative-date\" data-published-date=\"2019-06-25T11:00:00Z\" datetime=\"2019-06-25T11:00:00Z\"></time>, <time class=\"published-date relative-date\" data-published-date=\"2019-06-25T11:00:00Z\" datetime=\"2019-06-25T11:00:00Z\"></time>, <time class=\"published-date relative-date\" data-published-date=\"2019-06-25T07:17:59Z\" datetime=\"2019-06-25T07:17:59Z\"></time>, <time class=\"published-date relative-date\" data-published-date=\"2019-06-25T03:02:36Z\" datetime=\"2019-06-25T03:02:36Z\"></time>, <time class=\"published-date relative-date\" data-published-date=\"2019-06-25T01:49:42Z\" datetime=\"2019-06-25T01:49:42Z\"></time>, <time class=\"published-date relative-date\" data-published-date=\"2019-06-25T01:40:40Z\" datetime=\"2019-06-25T01:40:40Z\"></time>, <time class=\"published-date relative-date\" data-published-date=\"2019-06-24T21:45:11Z\" datetime=\"2019-06-24T21:45:11Z\"></time>, <time class=\"published-date relative-date\" data-published-date=\"2019-06-24T21:30:53Z\" datetime=\"2019-06-24T21:30:53Z\"></time>]\n"
          ],
          "name": "stdout"
        }
      ]
    },
    {
      "cell_type": "code",
      "metadata": {
        "id": "ya6YAvC_NZqg",
        "colab_type": "code",
        "outputId": "fa88972e-4681-493f-b19c-0e6929b63bc7",
        "colab": {
          "base_uri": "https://localhost:8080/",
          "height": 369
        }
      },
      "source": [
        "# get a list of all dates\n",
        "for timestamp in soup.find_all('time'):\n",
        "  if timestamp.has_attr('datetime'):\n",
        "    print(timestamp['datetime'])"
      ],
      "execution_count": 9,
      "outputs": [
        {
          "output_type": "stream",
          "text": [
            "2019-06-25T20:44:15Z\n",
            "2019-06-25T20:21:30Z\n",
            "2019-06-25T19:30:08Z\n",
            "2019-06-25T18:25:34Z\n",
            "2019-06-25T18:20:58Z\n",
            "2019-06-25T17:43:07Z\n",
            "2019-06-25T16:32:22Z\n",
            "2019-06-25T16:29:25Z\n",
            "2019-06-25T12:56:47Z\n",
            "2019-06-25T12:36:14Z\n",
            "2019-06-25T12:25:45Z\n",
            "2019-06-25T12:01:01Z\n",
            "2019-06-25T11:00:00Z\n",
            "2019-06-25T11:00:00Z\n",
            "2019-06-25T07:17:59Z\n",
            "2019-06-25T03:02:36Z\n",
            "2019-06-25T01:49:42Z\n",
            "2019-06-25T01:40:40Z\n",
            "2019-06-24T21:45:11Z\n",
            "2019-06-24T21:30:53Z\n"
          ],
          "name": "stdout"
        }
      ]
    },
    {
      "cell_type": "code",
      "metadata": {
        "colab_type": "code",
        "outputId": "ecea334c-04e0-4c65-aca7-c8390a3a3e0c",
        "id": "mUBbQz59KAAQ",
        "colab": {
          "base_uri": "https://localhost:8080/",
          "height": 55
        }
      },
      "source": [
        "# iterate over all space news\n",
        "\n",
        "summary = soup.select('.content')\n",
        "articles = []\n",
        "for article in summary:\n",
        "  \n",
        "  name = article.select_one('.article-name').get_text() # extract the article name\n",
        "  \n",
        "  author = article.select_one('.by-author').get_text().strip() # extract the author\n",
        "  \n",
        "  synopsis = article.select_one('.synopsis').get_text().strip() # get the synopsis\n",
        "  \n",
        "  date = article.time.attrs['datetime'] # obtain date and time\n",
        "  \n",
        "  article = {'title': name, 'author': author [4:], 'synopsis' : synopsis, 'date' : date [:10], 'time' : date [11:-1]} # build dictionary\n",
        "  \n",
        "  articles.append(article) # add dictionary to the list\n",
        "  \n",
        "print(articles)  "
      ],
      "execution_count": 10,
      "outputs": [
        {
          "output_type": "stream",
          "text": [
            "[{'title': 'Solar Eclipse Glasses: Where to Buy the Best, High-Quality Eyewear', 'author': 'Hanneke Weitering', 'synopsis': \"Whether you're looking for a new pair of eclipse glasses or you've already purchased some form of eye protection, here's what you need to know to avoid burning your eyes during the solar eclipse.\", 'date': '2019-06-25', 'time': '20:44:15'}, {'title': 'One Week Until the Great South American Total Solar Eclipse!', 'author': 'Joe Rao', 'synopsis': 'On Tuesday, July 2, a lot of ocean and a few tiny bits of land will lie under a moon-blackened sun.', 'date': '2019-06-25', 'time': '20:21:30'}, {'title': \"Dairy Queen Whips Up 'Zero Gravity' Blizzard for Moon Landing 50th\", 'author': 'Robert Z. Pearlman', 'synopsis': 'Eating it upside down is optional.', 'date': '2019-06-25', 'time': '19:30:08'}, {'title': 'How Apollo 8 Morphed Into a Moon Mission: Exclusive Clip ', 'author': 'Elizabeth Howell', 'synopsis': 'Apollo 8 was originally not supposed to go to the moon.', 'date': '2019-06-25', 'time': '18:25:34'}, {'title': \"Watch 3 'BIRDS' Take Flight from the International Space Station\", 'author': 'Passant Rabie', 'synopsis': 'Three small cubesats were released into low Earth orbit last week as part of a program that helps countries build their first satellites.', 'date': '2019-06-25', 'time': '18:20:58'}, {'title': 'SpaceX Falcon Heavy Launch Spotted from Space (Photos)', 'author': 'Mike Wall', 'synopsis': 'An Earth-observation satellite spotted something leaving our planet early this morning (June 25).', 'date': '2019-06-25', 'time': '17:43:07'}, {'title': \"Asteroid That's 3 Times As Long As a Football Field Will Whiz by Earth Thursday\", 'author': 'Laura Geggel', 'synopsis': \"Summer is the season for tourists, and that includes a cosmic traveler — one that's three times the length of a football field — that's expected to visit Earth's neighborhood later this week.\", 'date': '2019-06-25', 'time': '16:32:22'}, {'title': 'Executive Order Could Reduce Number of NASA Advisory Committees', 'author': 'Jeff Foust', 'synopsis': 'An executive order calling for an across-the-board reduction in federal advisory groups could force NASA to shut down several of the committees that support the agency.', 'date': '2019-06-25', 'time': '16:29:25'}, {'title': 'Pictures from Space! Our Image of the Day', 'author': 'Hanneke Weitering', 'synopsis': 'A Soyuz crew capsule carrying three crewmembers home from the International Space Station parachuted down to Earth under the first-quarter moon on Monday night (June 24).', 'date': '2019-06-25', 'time': '12:56:47'}, {'title': 'On This Day in Space! June 25, 1997: Russian Cargo Craft Collides With Mir Space Station', 'author': 'Hanneke Weitering', 'synopsis': 'On June 25, 1997, a Russian Progress M-34 spacecraft collided with the Russian Mir space station. See how it happened in our \"On This Day in Space\" video series!', 'date': '2019-06-25', 'time': '12:36:14'}, {'title': 'July New Moon 2019: Catch a Total Solar Eclipse, Bright Planets and Constellations ', 'author': 'Jesse Emspak', 'synopsis': 'The new moon occurs July 2, at 3:16 p.m. EDT (1916 GMT), and will offer up a total solar eclipse that will cross South America from just south of Buenos Aires to the city of La Serena, Chile.', 'date': '2019-06-25', 'time': '12:25:45'}, {'title': 'Space Webcasts: Space Station Crew Landing and a SpaceX Falcon Heavy Launch', 'author': 'SPACE.com Staff', 'synopsis': \"See replays of Monday's space station crew landing followed by a Falcon Heavy rocket launch early Tuesday morning.\", 'date': '2019-06-25', 'time': '12:01:01'}, {'title': 'Boeing to Move Space Headquarters to Florida', 'author': 'Jeff Foust', 'synopsis': 'Boeing announced June 19 it will move the headquarters of its space division from the Washington, DC area to Florida as a number of its major programs shift from development to operations.', 'date': '2019-06-25', 'time': '11:00:00'}, {'title': 'China Launches Latest Beidou Satellite for Global Navigation System', 'author': 'Andrew Jones', 'synopsis': 'A Long March 3B lifted off from the Xichang Satellite Launch Center in southwest China at 2:09 p.m. Eastern Monday, sending a Beidou satellite toward an inclined geosynchronous orbit.', 'date': '2019-06-25', 'time': '11:00:00'}, {'title': 'SpaceX Falcon Heavy Rocket Lofts 24 Satellites in 1st Night Launch', 'author': 'Meghan Bartels', 'synopsis': \"SpaceX marked a milestone today (June 25) as the company's Falcon Heavy megarocket successfully lofted two dozen satellites into orbit.\", 'date': '2019-06-25', 'time': '07:17:59'}, {'title': 'Soyuz Capsule Returns Station Crew to Earth After 204 Days in Space', 'author': 'Robert Z. Pearlman', 'synopsis': 'A Russian cosmonaut and astronauts from the United States and Canada returned to Earth after spending more than 200 days on board the International Space Station.', 'date': '2019-06-25', 'time': '03:02:36'}, {'title': 'SpaceX Adjusts Launch Time for First Falcon Heavy Night Flight', 'author': 'Meghan Bartels', 'synopsis': 'SpaceX is waiting until late in its 4-hour window to fire the engines on the massive Falcon Heavy rocket currently sitting on a launch pad here at Kennedy Space Center.', 'date': '2019-06-25', 'time': '01:49:42'}, {'title': 'Space Launch Calendar 2019: Sky Events, Missions & More', 'author': 'Hanneke Weitering', 'synopsis': \"Here's a guide to SpaceX's launch schedule, other rocket missions, astronomical events of the next year, as well as milestones for spacecraft already in travel.\", 'date': '2019-06-25', 'time': '01:40:40'}, {'title': 'SpaceX Looks Ahead to Certification Milestone with Falcon Heavy Launch', 'author': 'Stefano Coledan', 'synopsis': \"A panoply of satellites is awaiting liftoff aboard a Falcon Heavy rocket on a mission that will mark a milestone in SpaceX's quest to become an Air Force-certified launch provider.\", 'date': '2019-06-24', 'time': '21:45:11'}, {'title': 'Mars May Have Escaped Life-Threatening Impacts Early On', 'author': 'Charles Q. Choi', 'synopsis': 'A storm of cosmic impacts may have ended relatively early on Mars, suggesting that the Red Planet was habitable longer than scientists previously thought, a new study finds.', 'date': '2019-06-24', 'time': '21:30:53'}]\n"
          ],
          "name": "stdout"
        }
      ]
    },
    {
      "cell_type": "code",
      "metadata": {
        "id": "SFstLSCxcjj8",
        "colab_type": "code",
        "outputId": "9b4bd5a6-0a7f-4e56-824e-d237cef9c8eb",
        "colab": {
          "base_uri": "https://localhost:8080/",
          "height": 55
        }
      },
      "source": [
        "# wrap everything in a function, with necessary libraries already installed\n",
        "# import requests\n",
        "# from bs4 import BeautifulSoup\n",
        "\n",
        "url = 'https://www.space.com/news'\n",
        "\n",
        "def space_scraper(url):\n",
        "  response = requests.get(url)\n",
        "  if(response.ok):\n",
        "    data = response.text\n",
        "    soup = BeautifulSoup(data, 'html.parser')\n",
        "    summary = soup.select('.content')\n",
        "    articles = []\n",
        "    for article in summary:\n",
        "      name = article.select_one('.article-name').get_text() # extract the article name\n",
        "      author = article.select_one('.by-author').get_text().strip() # extract the author\n",
        "      synopsis = article.select_one('.synopsis').get_text().strip() # get the synopsis\n",
        "      timestamp = article.time.attrs['datetime']\n",
        "      article = {'title': name, 'author': author [4:], 'synopsis' : synopsis, 'date' : timestamp [:10], 'time' : timestamp [11:-1]}\n",
        "      articles.append(article)\n",
        "    return print(articles)\n",
        "  else:\n",
        "    return \"Sorry, there is a problem with your html request\"\n",
        "  \n",
        "space_scraper(url)"
      ],
      "execution_count": 11,
      "outputs": [
        {
          "output_type": "stream",
          "text": [
            "[{'title': 'Solar Eclipse Glasses: Where to Buy the Best, High-Quality Eyewear', 'author': 'Hanneke Weitering', 'synopsis': \"Whether you're looking for a new pair of eclipse glasses or you've already purchased some form of eye protection, here's what you need to know to avoid burning your eyes during the solar eclipse.\", 'date': '2019-06-25', 'time': '20:44:15'}, {'title': 'One Week Until the Great South American Total Solar Eclipse!', 'author': 'Joe Rao', 'synopsis': 'On Tuesday, July 2, a lot of ocean and a few tiny bits of land will lie under a moon-blackened sun.', 'date': '2019-06-25', 'time': '20:21:30'}, {'title': \"Dairy Queen Whips Up 'Zero Gravity' Blizzard for Moon Landing 50th\", 'author': 'Robert Z. Pearlman', 'synopsis': 'Eating it upside down is optional.', 'date': '2019-06-25', 'time': '19:30:08'}, {'title': 'How Apollo 8 Morphed Into a Moon Mission: Exclusive Clip ', 'author': 'Elizabeth Howell', 'synopsis': 'Apollo 8 was originally not supposed to go to the moon.', 'date': '2019-06-25', 'time': '18:25:34'}, {'title': \"Watch 3 'BIRDS' Take Flight from the International Space Station\", 'author': 'Passant Rabie', 'synopsis': 'Three small cubesats were released into low Earth orbit last week as part of a program that helps countries build their first satellites.', 'date': '2019-06-25', 'time': '18:20:58'}, {'title': 'SpaceX Falcon Heavy Launch Spotted from Space (Photos)', 'author': 'Mike Wall', 'synopsis': 'An Earth-observation satellite spotted something leaving our planet early this morning (June 25).', 'date': '2019-06-25', 'time': '17:43:07'}, {'title': \"Asteroid That's 3 Times As Long As a Football Field Will Whiz by Earth Thursday\", 'author': 'Laura Geggel', 'synopsis': \"Summer is the season for tourists, and that includes a cosmic traveler — one that's three times the length of a football field — that's expected to visit Earth's neighborhood later this week.\", 'date': '2019-06-25', 'time': '16:32:22'}, {'title': 'Executive Order Could Reduce Number of NASA Advisory Committees', 'author': 'Jeff Foust', 'synopsis': 'An executive order calling for an across-the-board reduction in federal advisory groups could force NASA to shut down several of the committees that support the agency.', 'date': '2019-06-25', 'time': '16:29:25'}, {'title': 'Pictures from Space! Our Image of the Day', 'author': 'Hanneke Weitering', 'synopsis': 'A Soyuz crew capsule carrying three crewmembers home from the International Space Station parachuted down to Earth under the first-quarter moon on Monday night (June 24).', 'date': '2019-06-25', 'time': '12:56:47'}, {'title': 'On This Day in Space! June 25, 1997: Russian Cargo Craft Collides With Mir Space Station', 'author': 'Hanneke Weitering', 'synopsis': 'On June 25, 1997, a Russian Progress M-34 spacecraft collided with the Russian Mir space station. See how it happened in our \"On This Day in Space\" video series!', 'date': '2019-06-25', 'time': '12:36:14'}, {'title': 'July New Moon 2019: Catch a Total Solar Eclipse, Bright Planets and Constellations ', 'author': 'Jesse Emspak', 'synopsis': 'The new moon occurs July 2, at 3:16 p.m. EDT (1916 GMT), and will offer up a total solar eclipse that will cross South America from just south of Buenos Aires to the city of La Serena, Chile.', 'date': '2019-06-25', 'time': '12:25:45'}, {'title': 'Space Webcasts: Space Station Crew Landing and a SpaceX Falcon Heavy Launch', 'author': 'SPACE.com Staff', 'synopsis': \"See replays of Monday's space station crew landing followed by a Falcon Heavy rocket launch early Tuesday morning.\", 'date': '2019-06-25', 'time': '12:01:01'}, {'title': 'Boeing to Move Space Headquarters to Florida', 'author': 'Jeff Foust', 'synopsis': 'Boeing announced June 19 it will move the headquarters of its space division from the Washington, DC area to Florida as a number of its major programs shift from development to operations.', 'date': '2019-06-25', 'time': '11:00:00'}, {'title': 'China Launches Latest Beidou Satellite for Global Navigation System', 'author': 'Andrew Jones', 'synopsis': 'A Long March 3B lifted off from the Xichang Satellite Launch Center in southwest China at 2:09 p.m. Eastern Monday, sending a Beidou satellite toward an inclined geosynchronous orbit.', 'date': '2019-06-25', 'time': '11:00:00'}, {'title': 'SpaceX Falcon Heavy Rocket Lofts 24 Satellites in 1st Night Launch', 'author': 'Meghan Bartels', 'synopsis': \"SpaceX marked a milestone today (June 25) as the company's Falcon Heavy megarocket successfully lofted two dozen satellites into orbit.\", 'date': '2019-06-25', 'time': '07:17:59'}, {'title': 'Soyuz Capsule Returns Station Crew to Earth After 204 Days in Space', 'author': 'Robert Z. Pearlman', 'synopsis': 'A Russian cosmonaut and astronauts from the United States and Canada returned to Earth after spending more than 200 days on board the International Space Station.', 'date': '2019-06-25', 'time': '03:02:36'}, {'title': 'SpaceX Adjusts Launch Time for First Falcon Heavy Night Flight', 'author': 'Meghan Bartels', 'synopsis': 'SpaceX is waiting until late in its 4-hour window to fire the engines on the massive Falcon Heavy rocket currently sitting on a launch pad here at Kennedy Space Center.', 'date': '2019-06-25', 'time': '01:49:42'}, {'title': 'Space Launch Calendar 2019: Sky Events, Missions & More', 'author': 'Hanneke Weitering', 'synopsis': \"Here's a guide to SpaceX's launch schedule, other rocket missions, astronomical events of the next year, as well as milestones for spacecraft already in travel.\", 'date': '2019-06-25', 'time': '01:40:40'}, {'title': 'SpaceX Looks Ahead to Certification Milestone with Falcon Heavy Launch', 'author': 'Stefano Coledan', 'synopsis': \"A panoply of satellites is awaiting liftoff aboard a Falcon Heavy rocket on a mission that will mark a milestone in SpaceX's quest to become an Air Force-certified launch provider.\", 'date': '2019-06-24', 'time': '21:45:11'}, {'title': 'Mars May Have Escaped Life-Threatening Impacts Early On', 'author': 'Charles Q. Choi', 'synopsis': 'A storm of cosmic impacts may have ended relatively early on Mars, suggesting that the Red Planet was habitable longer than scientists previously thought, a new study finds.', 'date': '2019-06-24', 'time': '21:30:53'}]\n"
          ],
          "name": "stdout"
        }
      ]
    }
  ]
}